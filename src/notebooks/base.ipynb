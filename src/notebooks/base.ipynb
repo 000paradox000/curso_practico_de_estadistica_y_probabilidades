{
 "cells": [
  {
   "cell_type": "markdown",
   "id": "49951bb8-1146-4dfa-8988-ab1bd1dc38eb",
   "metadata": {},
   "source": [
    "# Base Notebook"
   ]
  },
  {
   "cell_type": "markdown",
   "id": "84ac254e-061b-4a9b-8fcd-0e68020a2516",
   "metadata": {},
   "source": [
    "## Libraries"
   ]
  },
  {
   "cell_type": "code",
   "execution_count": 6,
   "id": "6b2d424f-7410-4912-89a6-319cd99857b7",
   "metadata": {},
   "outputs": [],
   "source": [
    "from collections import Counter"
   ]
  },
  {
   "cell_type": "markdown",
   "id": "8f7133b8-8a3a-458c-b707-a3eed496be6f",
   "metadata": {},
   "source": [
    "## Random Sample 1"
   ]
  },
  {
   "cell_type": "code",
   "execution_count": 1,
   "id": "55f45a28-c5c0-4c9e-9b4f-0dc852057a64",
   "metadata": {},
   "outputs": [],
   "source": [
    "content = \"\"\"\n",
    "Satisfecho\n",
    "Muy Satisfecho\n",
    "Descontento\n",
    "Medianamente Satisfecho\n",
    "Satisfecho\n",
    "Satisfecho\n",
    "Medianamente Satisfecho\n",
    "Satisfecho\n",
    "Muy Satisfecho\n",
    "Muy Satisfecho\n",
    "Muy Satisfecho\n",
    "Descontento\n",
    "Descontento\n",
    "Medianamente Satisfecho\n",
    "Satisfecho\n",
    "Satisfecho\n",
    "Satisfecho\n",
    "Muy Satisfecho\n",
    "Satisfecho\n",
    "Muy Satisfecho\n",
    "Muy Satisfecho\n",
    "Medianamente Satisfecho\n",
    "Satisfecho\n",
    "Medianamente Satisfecho\n",
    "Satisfecho\n",
    "\"\"\""
   ]
  },
  {
   "cell_type": "code",
   "execution_count": 2,
   "id": "850bafe2-4caa-40bf-a95b-88c5a1c0b4fc",
   "metadata": {},
   "outputs": [],
   "source": [
    "content_list = content.split(\"\\n\")"
   ]
  },
  {
   "cell_type": "code",
   "execution_count": 3,
   "id": "68c2d8b3-d2e7-4c79-9788-ed00512e1115",
   "metadata": {},
   "outputs": [
    {
     "data": {
      "text/plain": [
       "['',\n",
       " 'Satisfecho',\n",
       " 'Muy Satisfecho',\n",
       " 'Descontento',\n",
       " 'Medianamente Satisfecho',\n",
       " 'Satisfecho',\n",
       " 'Satisfecho',\n",
       " 'Medianamente Satisfecho',\n",
       " 'Satisfecho',\n",
       " 'Muy Satisfecho',\n",
       " 'Muy Satisfecho',\n",
       " 'Muy Satisfecho',\n",
       " 'Descontento',\n",
       " 'Descontento',\n",
       " 'Medianamente Satisfecho',\n",
       " 'Satisfecho',\n",
       " 'Satisfecho',\n",
       " 'Satisfecho',\n",
       " 'Muy Satisfecho',\n",
       " 'Satisfecho',\n",
       " 'Muy Satisfecho',\n",
       " 'Muy Satisfecho',\n",
       " 'Medianamente Satisfecho',\n",
       " 'Satisfecho',\n",
       " 'Medianamente Satisfecho',\n",
       " 'Satisfecho',\n",
       " '']"
      ]
     },
     "execution_count": 3,
     "metadata": {},
     "output_type": "execute_result"
    }
   ],
   "source": [
    "content_list"
   ]
  },
  {
   "cell_type": "code",
   "execution_count": 4,
   "id": "969ddc3c-73ca-441b-807b-8491cc583836",
   "metadata": {},
   "outputs": [],
   "source": [
    "content_list = list(filter(lambda element: element != \"\", content_list))"
   ]
  },
  {
   "cell_type": "code",
   "execution_count": 5,
   "id": "efa37be6-c84f-432c-90cd-2fd53432caeb",
   "metadata": {},
   "outputs": [
    {
     "data": {
      "text/plain": [
       "['Satisfecho',\n",
       " 'Muy Satisfecho',\n",
       " 'Descontento',\n",
       " 'Medianamente Satisfecho',\n",
       " 'Satisfecho',\n",
       " 'Satisfecho',\n",
       " 'Medianamente Satisfecho',\n",
       " 'Satisfecho',\n",
       " 'Muy Satisfecho',\n",
       " 'Muy Satisfecho',\n",
       " 'Muy Satisfecho',\n",
       " 'Descontento',\n",
       " 'Descontento',\n",
       " 'Medianamente Satisfecho',\n",
       " 'Satisfecho',\n",
       " 'Satisfecho',\n",
       " 'Satisfecho',\n",
       " 'Muy Satisfecho',\n",
       " 'Satisfecho',\n",
       " 'Muy Satisfecho',\n",
       " 'Muy Satisfecho',\n",
       " 'Medianamente Satisfecho',\n",
       " 'Satisfecho',\n",
       " 'Medianamente Satisfecho',\n",
       " 'Satisfecho']"
      ]
     },
     "execution_count": 5,
     "metadata": {},
     "output_type": "execute_result"
    }
   ],
   "source": [
    "content_list"
   ]
  },
  {
   "cell_type": "code",
   "execution_count": 7,
   "id": "903d3603-e836-4faa-956d-bda14ffbec1e",
   "metadata": {},
   "outputs": [],
   "source": [
    "frequencies = Counter(content_list)"
   ]
  },
  {
   "cell_type": "code",
   "execution_count": 8,
   "id": "34141abf-e0f0-4e4f-85a1-520c12f79195",
   "metadata": {},
   "outputs": [
    {
     "data": {
      "text/plain": [
       "Counter({'Satisfecho': 10,\n",
       "         'Muy Satisfecho': 7,\n",
       "         'Medianamente Satisfecho': 5,\n",
       "         'Descontento': 3})"
      ]
     },
     "execution_count": 8,
     "metadata": {},
     "output_type": "execute_result"
    }
   ],
   "source": [
    "frequencies"
   ]
  }
 ],
 "metadata": {
  "kernelspec": {
   "display_name": "Python 3 (ipykernel)",
   "language": "python",
   "name": "python3"
  },
  "language_info": {
   "codemirror_mode": {
    "name": "ipython",
    "version": 3
   },
   "file_extension": ".py",
   "mimetype": "text/x-python",
   "name": "python",
   "nbconvert_exporter": "python",
   "pygments_lexer": "ipython3",
   "version": "3.12.4"
  }
 },
 "nbformat": 4,
 "nbformat_minor": 5
}
