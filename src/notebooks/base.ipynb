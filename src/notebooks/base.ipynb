{
 "cells": [
  {
   "cell_type": "markdown",
   "id": "49951bb8-1146-4dfa-8988-ab1bd1dc38eb",
   "metadata": {},
   "source": [
    "# Base Notebook"
   ]
  },
  {
   "cell_type": "markdown",
   "id": "84ac254e-061b-4a9b-8fcd-0e68020a2516",
   "metadata": {},
   "source": [
    "## Libraries"
   ]
  },
  {
   "cell_type": "code",
   "execution_count": 1,
   "id": "6b2d424f-7410-4912-89a6-319cd99857b7",
   "metadata": {},
   "outputs": [],
   "source": [
    "from collections import Counter\n",
    "import datetime\n",
    "from pathlib import Path\n",
    "import random"
   ]
  },
  {
   "cell_type": "code",
   "execution_count": 2,
   "id": "c587a8a4-8431-40b4-b0bb-6e48b7a2bb35",
   "metadata": {},
   "outputs": [],
   "source": [
    "import matplotlib.pyplot as plt"
   ]
  },
  {
   "cell_type": "code",
   "execution_count": 3,
   "id": "a0173c31-8143-4bb9-b241-6178619155a0",
   "metadata": {},
   "outputs": [],
   "source": [
    "import numpy as np"
   ]
  },
  {
   "cell_type": "code",
   "execution_count": 4,
   "id": "45f1fb15-6f46-428c-babf-d184f0248733",
   "metadata": {},
   "outputs": [],
   "source": [
    "from ipywidgets import Button\n",
    "from IPython.display import display\n",
    "from IPython.display import FileLink"
   ]
  },
  {
   "cell_type": "markdown",
   "id": "2b657714-258f-4dfe-9693-738e93fb8d8c",
   "metadata": {},
   "source": [
    "## Global variables"
   ]
  },
  {
   "cell_type": "code",
   "execution_count": 5,
   "id": "f29b3860-36fd-48c0-973b-566cd6e98951",
   "metadata": {},
   "outputs": [],
   "source": [
    "BASE_DIR = Path(\".\").resolve().parent.parent"
   ]
  },
  {
   "cell_type": "code",
   "execution_count": 6,
   "id": "4187e590-5a62-475d-8d27-820bd14ab134",
   "metadata": {},
   "outputs": [],
   "source": [
    "IMAGES_DIR = BASE_DIR / \"docs\" / \"images\""
   ]
  },
  {
   "cell_type": "markdown",
   "id": "322bba7c-1692-41f5-b0ee-c9d5769028dc",
   "metadata": {},
   "source": [
    "## Functions"
   ]
  },
  {
   "cell_type": "code",
   "execution_count": 7,
   "id": "9eb5b050-1f2d-4be2-b398-c6c60ed6bbf8",
   "metadata": {},
   "outputs": [],
   "source": [
    "def get_random_color(only_light_color: bool = False) -> str:\n",
    "    if only_light_color:\n",
    "        r = random.randint(200, 255)\n",
    "        g = random.randint(200, 255)\n",
    "        b = random.randint(200, 255)\n",
    "        color_hex = f\"#{r:02x}{g:02x}{b:02x}\"    \n",
    "    else:\n",
    "        value = random.randint(0, 0xFFFFFF)\n",
    "        color_hex = f\"#{value:06x}\"\n",
    "\n",
    "    return color_hex"
   ]
  },
  {
   "cell_type": "code",
   "execution_count": 8,
   "id": "def1bcf2-311b-4390-81a4-2c7b9b15f4b8",
   "metadata": {},
   "outputs": [],
   "source": [
    "def get_random_colors(colors_number: int, only_light_color: bool = False) -> list[str]:\n",
    "    random_colors = []\n",
    "\n",
    "    for color_number in range(1, colors_number + 1):\n",
    "        while True:\n",
    "            random_color = get_random_color(only_light_color=only_light_color)\n",
    "            if random_color not in random_colors:\n",
    "                break\n",
    "\n",
    "        random_colors.append(random_color)\n",
    "\n",
    "    return random_colors"
   ]
  },
  {
   "cell_type": "code",
   "execution_count": 9,
   "id": "283161f2-3916-45cc-85c4-9df910cf9b57",
   "metadata": {},
   "outputs": [],
   "source": [
    "def generate_filename(base_name: str = \"output\", extension: str = \"png\", with_dt: bool = True) -> str:\n",
    "    now = datetime.datetime.now()\n",
    "    fmt = \"%Y%m%d%H%M%S\"\n",
    "    dt = now.strftime(fmt)\n",
    "\n",
    "    if with_dt:\n",
    "        return f\"{base_name}_{dt}.{extension}\"\n",
    "    \n",
    "    return f\"{base_name}.{extension}\""
   ]
  },
  {
   "cell_type": "code",
   "execution_count": 10,
   "id": "01e63393-1a8e-445a-aec6-28164d1112b2",
   "metadata": {},
   "outputs": [],
   "source": [
    "def save_plot(plt_obj, base_name: str = \"output\", with_dt: bool = False, overwrite: bool = True):\n",
    "    filename = generate_filename(base_name=base_name, extension=\"png\", with_dt=with_dt)\n",
    "    path = IMAGES_DIR / filename\n",
    "\n",
    "    if path.exists() and not overwrite:\n",
    "        return\n",
    "    \n",
    "    plt_obj.savefig(path.as_posix())"
   ]
  },
  {
   "cell_type": "markdown",
   "id": "8f7133b8-8a3a-458c-b707-a3eed496be6f",
   "metadata": {},
   "source": [
    "## Random Sample 1"
   ]
  },
  {
   "cell_type": "code",
   "execution_count": 11,
   "id": "55f45a28-c5c0-4c9e-9b4f-0dc852057a64",
   "metadata": {},
   "outputs": [],
   "source": [
    "content = \"\"\"\n",
    "Satisfecho\n",
    "Muy Satisfecho\n",
    "Descontento\n",
    "Medianamente Satisfecho\n",
    "Satisfecho\n",
    "Satisfecho\n",
    "Medianamente Satisfecho\n",
    "Satisfecho\n",
    "Muy Satisfecho\n",
    "Muy Satisfecho\n",
    "Muy Satisfecho\n",
    "Descontento\n",
    "Descontento\n",
    "Medianamente Satisfecho\n",
    "Satisfecho\n",
    "Satisfecho\n",
    "Satisfecho\n",
    "Muy Satisfecho\n",
    "Satisfecho\n",
    "Muy Satisfecho\n",
    "Muy Satisfecho\n",
    "Medianamente Satisfecho\n",
    "Satisfecho\n",
    "Medianamente Satisfecho\n",
    "Satisfecho\n",
    "\"\"\""
   ]
  },
  {
   "cell_type": "code",
   "execution_count": 12,
   "id": "850bafe2-4caa-40bf-a95b-88c5a1c0b4fc",
   "metadata": {},
   "outputs": [],
   "source": [
    "content_list = content.split(\"\\n\")"
   ]
  },
  {
   "cell_type": "code",
   "execution_count": 13,
   "id": "68c2d8b3-d2e7-4c79-9788-ed00512e1115",
   "metadata": {},
   "outputs": [
    {
     "data": {
      "text/plain": [
       "['',\n",
       " 'Satisfecho',\n",
       " 'Muy Satisfecho',\n",
       " 'Descontento',\n",
       " 'Medianamente Satisfecho',\n",
       " 'Satisfecho',\n",
       " 'Satisfecho',\n",
       " 'Medianamente Satisfecho',\n",
       " 'Satisfecho',\n",
       " 'Muy Satisfecho',\n",
       " 'Muy Satisfecho',\n",
       " 'Muy Satisfecho',\n",
       " 'Descontento',\n",
       " 'Descontento',\n",
       " 'Medianamente Satisfecho',\n",
       " 'Satisfecho',\n",
       " 'Satisfecho',\n",
       " 'Satisfecho',\n",
       " 'Muy Satisfecho',\n",
       " 'Satisfecho',\n",
       " 'Muy Satisfecho',\n",
       " 'Muy Satisfecho',\n",
       " 'Medianamente Satisfecho',\n",
       " 'Satisfecho',\n",
       " 'Medianamente Satisfecho',\n",
       " 'Satisfecho',\n",
       " '']"
      ]
     },
     "execution_count": 13,
     "metadata": {},
     "output_type": "execute_result"
    }
   ],
   "source": [
    "content_list"
   ]
  },
  {
   "cell_type": "code",
   "execution_count": 14,
   "id": "969ddc3c-73ca-441b-807b-8491cc583836",
   "metadata": {},
   "outputs": [],
   "source": [
    "content_list = list(filter(lambda element: element != \"\", content_list))"
   ]
  },
  {
   "cell_type": "code",
   "execution_count": 15,
   "id": "efa37be6-c84f-432c-90cd-2fd53432caeb",
   "metadata": {},
   "outputs": [
    {
     "data": {
      "text/plain": [
       "['Satisfecho',\n",
       " 'Muy Satisfecho',\n",
       " 'Descontento',\n",
       " 'Medianamente Satisfecho',\n",
       " 'Satisfecho',\n",
       " 'Satisfecho',\n",
       " 'Medianamente Satisfecho',\n",
       " 'Satisfecho',\n",
       " 'Muy Satisfecho',\n",
       " 'Muy Satisfecho',\n",
       " 'Muy Satisfecho',\n",
       " 'Descontento',\n",
       " 'Descontento',\n",
       " 'Medianamente Satisfecho',\n",
       " 'Satisfecho',\n",
       " 'Satisfecho',\n",
       " 'Satisfecho',\n",
       " 'Muy Satisfecho',\n",
       " 'Satisfecho',\n",
       " 'Muy Satisfecho',\n",
       " 'Muy Satisfecho',\n",
       " 'Medianamente Satisfecho',\n",
       " 'Satisfecho',\n",
       " 'Medianamente Satisfecho',\n",
       " 'Satisfecho']"
      ]
     },
     "execution_count": 15,
     "metadata": {},
     "output_type": "execute_result"
    }
   ],
   "source": [
    "content_list"
   ]
  },
  {
   "cell_type": "code",
   "execution_count": 16,
   "id": "903d3603-e836-4faa-956d-bda14ffbec1e",
   "metadata": {},
   "outputs": [],
   "source": [
    "frequencies = Counter(content_list)"
   ]
  },
  {
   "cell_type": "code",
   "execution_count": 17,
   "id": "34141abf-e0f0-4e4f-85a1-520c12f79195",
   "metadata": {},
   "outputs": [
    {
     "data": {
      "text/plain": [
       "Counter({'Satisfecho': 10,\n",
       "         'Muy Satisfecho': 7,\n",
       "         'Medianamente Satisfecho': 5,\n",
       "         'Descontento': 3})"
      ]
     },
     "execution_count": 17,
     "metadata": {},
     "output_type": "execute_result"
    }
   ],
   "source": [
    "frequencies"
   ]
  },
  {
   "cell_type": "code",
   "execution_count": 21,
   "id": "487d8f17-4e12-4040-87a2-33aecd643db0",
   "metadata": {},
   "outputs": [
    {
     "data": {
      "image/png": "[encoded data removed]",
      "text/plain": [
       "<Figure size 640x480 with 1 Axes>"
      ]
     },
     "metadata": {},
     "output_type": "display_data"
    }
   ],
   "source": [
    "labels = list(frequencies.keys())\n",
    "sizes = list(frequencies.values())\n",
    "colors = get_random_colors(len(labels), only_light_color=True)\n",
    "\n",
    "plt.title(\"Satisfacción de los clientes del hotel\", pad=20)\n",
    "\n",
    "plt.pie(\n",
    "    sizes, \n",
    "    labels=labels, \n",
    "    autopct='%1.1f%%', \n",
    "    colors=colors,\n",
    ")\n",
    "\n",
    "plt.axis('equal')\n",
    "save_plot(plt_obj=plt, base_name=\"satisfaccion_clientes_hotel\", with_dt=False, overwrite=False)\n",
    "plt.show()"
   ]
  }
 ],
 "metadata": {
  "kernelspec": {
   "display_name": "Python 3 (ipykernel)",
   "language": "python",
   "name": "python3"
  },
  "language_info": {
   "codemirror_mode": {
    "name": "ipython",
    "version": 3
   },
   "file_extension": ".py",
   "mimetype": "text/x-python",
   "name": "python",
   "nbconvert_exporter": "python",
   "pygments_lexer": "ipython3",
   "version": "3.12.4"
  }
 },
 "nbformat": 4,
 "nbformat_minor": 5
}
